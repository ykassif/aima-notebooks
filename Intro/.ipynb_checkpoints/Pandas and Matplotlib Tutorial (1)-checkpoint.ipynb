{
 "cells": [
  {
   "cell_type": "markdown",
   "metadata": {},
   "source": [
    "# Pandas and Matplotlib Tutorial"
   ]
  },
  {
   "cell_type": "code",
   "execution_count": null,
   "metadata": {
    "collapsed": true
   },
   "outputs": [],
   "source": [
    "# Standard Headers\n",
    "import pandas as pd\n",
    "import matplotlib.pyplot as plt\n",
    "\n",
    "# Enable inline mode for matplotlib so that Jupyter displays graphs\n",
    "%matplotlib inline"
   ]
  },
  {
   "cell_type": "markdown",
   "metadata": {},
   "source": [
    "## 1. Intro to Pandas\n",
    "\n",
    "Pandas provide two convenient data structures for storing and manipulating data-- Series and DataFrame. A Series is similar to a one-dimensional array whereas a DataFrame is more similar to representing a matrix or a spreadsheet table.  \n",
    "\n",
    "The Pandas library documentation is [here](http://pandas.pydata.org/pandas-docs/stable/reference/index.html).\n",
    "\n",
    "In this tutorial, we will use the <a href=\"http://archive.ics.uci.edu/ml/datasets/Iris\">Iris dataset</a> from the UCI machine learning repository, which contains information on 150 Iris flowers, 50 each from one of three Iris species: Setosa, Versicolour, and Virginica. Each flower is characterized by five attributes:\n",
    "\n",
    "- sepal length in centimeters\n",
    "\n",
    "- sepal width in centimeters\n",
    "\n",
    "- petal length in centimeters\n",
    "\n",
    "- petal width in centimeters\n",
    "\n",
    "- class (Setosa, Versicolour, Virginica) \n",
    "\n",
    "<img src=\"iris.png\">\n",
    "\n",
    "### 1.1 Reading data from a CSV file\n",
    "You can find more on reading CSV (Comma Separated Value) data in to a Pandas dataframe [here](http://pandas.pydata.org/pandas-docs/stable/generated/pandas.read_csv.html).\n",
    "\n",
    "Documentation for Pandas DataFrames is [here](http://pandas.pydata.org/pandas-docs/stable/reference/frame.html)."
   ]
  },
  {
   "cell_type": "code",
   "execution_count": null,
   "metadata": {
    "collapsed": true
   },
   "outputs": [],
   "source": [
    "#data = pd.read_csv('http://archive.ics.uci.edu/ml/machine-learning-databases/iris/iris.data', header=None)\n",
    "data = pd.read_csv('iris.data.txt', header=None)\n",
    "data.columns = ['sepal length', 'sepal width', 'petal length', 'petal width', 'class']\n",
    "\n",
    "data.head(10)  # displays the first 5 rows of the data frame"
   ]
  },
  {
   "cell_type": "markdown",
   "metadata": {},
   "source": [
    "### 1.2 Accessing elements of a DataFrame\n",
    "\n",
    "The elements of a DataFrame can be accessed in many ways.\n",
    "Accessing an entire row or column will return a Pandas Series object.\n",
    "\n",
    "Documentation for Pandas Series is [here](http://pandas.pydata.org/pandas-docs/stable/reference/series.html).\n",
    "\n",
    "Documentation for accessing elements of a DataFrame is [here](http://pandas.pydata.org/pandas-docs/stable/user_guide/indexing.html)."
   ]
  },
  {
   "cell_type": "code",
   "execution_count": null,
   "metadata": {
    "collapsed": true
   },
   "outputs": [],
   "source": [
    "# accessing an entire row will return a Series object\n",
    "print('Row 2 of data table:')\n",
    "row = data.iloc[2]       # returns the 3rd row of DataFrame\n",
    "#print(data[2])          # must use iloc on Data Frames, this will error\n",
    "print(row)\n",
    "\n",
    "print('\\nType=', type(row))\n",
    "print('Values=', row.values)   # display values of the Series\n",
    "print('Index=', row.index)     # display indices of the Series"
   ]
  },
  {
   "cell_type": "code",
   "execution_count": null,
   "metadata": {
    "collapsed": true
   },
   "outputs": [],
   "source": [
    "# accessing an entire column will return a Series object\n",
    "print('Col 3 of data table:')\n",
    "print(data['petal width'])  # access column by name\n",
    "print(type(data['petal width']))\n",
    "\n",
    "# could also do:\n",
    "#print(data.iloc[:,3]) # [all rows, col 3]\n",
    "#print(data.loc[:,'petal width']) # all rows, col by name\n",
    "\n",
    "# use iloc for numerical indices, use loc for text indices"
   ]
  },
  {
   "cell_type": "code",
   "execution_count": null,
   "metadata": {
    "collapsed": true,
    "scrolled": true
   },
   "outputs": [],
   "source": [
    "# accessing a specific element of the DataFrame\n",
    "# use iloc for numerical indexes\n",
    "# use loc for title indexes\n",
    "\n",
    "print(data.iloc[1,2])            # retrieving first row, second column\n",
    "print(data.loc[1,'sepal width']) # retrieving first row, column named 'model'\n",
    "\n",
    "# accessing a slice of the DataFrame\n",
    "print(\"\")\n",
    "print(data.iloc[1:10,1:3])  # get rows 1-9, cols 1-2\n",
    "\n",
    "print(\"\")\n",
    "print(data.loc[5:10, ['petal length', 'sepal width']]) # get rows 5-9, cols 'petal length' & 'sepal width'"
   ]
  },
  {
   "cell_type": "code",
   "execution_count": null,
   "metadata": {
    "collapsed": true,
    "scrolled": true
   },
   "outputs": [],
   "source": [
    "# selection and filtering\n",
    "#print(data['sepal width'] > 3.5)\n",
    "\n",
    "print(data[data['sepal width'] > 3.5])"
   ]
  },
  {
   "cell_type": "markdown",
   "metadata": {},
   "source": [
    "### 1.3 Data Summary Information\n",
    "Getting summary information about the data."
   ]
  },
  {
   "cell_type": "code",
   "execution_count": null,
   "metadata": {
    "collapsed": true
   },
   "outputs": [],
   "source": [
    "print('data.shape =', data.shape) # dimensions of the table\n",
    "print('data.size =', data.size)   # total number of elements in the table"
   ]
  },
  {
   "cell_type": "code",
   "execution_count": null,
   "metadata": {
    "collapsed": true
   },
   "outputs": [],
   "source": [
    "# see the unique values for a column\n",
    "print(data['class'].unique())\n",
    "print(data['sepal width'].unique())\n",
    "\n",
    "# see how many there are of each of those values\n",
    "print(\"\")\n",
    "print(data['class'].value_counts())\n",
    "print(data['sepal width'].value_counts())\n",
    "print(type(data['sepal width'].value_counts()))"
   ]
  },
  {
   "cell_type": "code",
   "execution_count": null,
   "metadata": {
    "collapsed": true,
    "scrolled": true
   },
   "outputs": [],
   "source": [
    "# summary statistics for entire dataset\n",
    "data.describe()"
   ]
  },
  {
   "cell_type": "code",
   "execution_count": null,
   "metadata": {
    "collapsed": true
   },
   "outputs": [],
   "source": [
    "# group the data by class, then calculate summary statistics\n",
    "result = data.groupby('class').describe()\n",
    "result"
   ]
  },
  {
   "cell_type": "code",
   "execution_count": null,
   "metadata": {
    "collapsed": true
   },
   "outputs": [],
   "source": [
    "# get just the stats for petal length, by class\n",
    "petal_length_result = result['petal length']\n",
    "petal_length_result"
   ]
  },
  {
   "cell_type": "code",
   "execution_count": null,
   "metadata": {
    "collapsed": true,
    "scrolled": true
   },
   "outputs": [],
   "source": [
    "# get just the mean and std for petal length, by class\n",
    "petal_length_result.loc[:,['mean', 'std']]"
   ]
  },
  {
   "cell_type": "code",
   "execution_count": null,
   "metadata": {
    "collapsed": true
   },
   "outputs": [],
   "source": [
    "# compute a correlation between every pair of attributes\n",
    "data.corr()"
   ]
  },
  {
   "cell_type": "markdown",
   "metadata": {},
   "source": [
    "### 1.4 Arithmetic Operations"
   ]
  },
  {
   "cell_type": "code",
   "execution_count": null,
   "metadata": {
    "collapsed": true
   },
   "outputs": [],
   "source": [
    "# many arithmetic operations only work on all numerical data, \n",
    "# so let's remove the last column, which is categorical\n",
    "data_sample = data.head() # take a subset of the data\n",
    "del data_sample['class']  # remove the last column\n",
    "print(data_sample.shape)  # check the shape of the data sample\n",
    "data.head()"
   ]
  },
  {
   "cell_type": "code",
   "execution_count": null,
   "metadata": {
    "collapsed": true
   },
   "outputs": [],
   "source": [
    "# arithmetic operations\n",
    "print(data_sample + 4)\n",
    "print(data_sample * 4)\n",
    "print(data_sample ** 4)\n",
    "print(data_sample.abs())    # get the absolute value for each element\n",
    "print(data_sample.T)    # transpose operation"
   ]
  },
  {
   "cell_type": "code",
   "execution_count": null,
   "metadata": {
    "collapsed": true
   },
   "outputs": [],
   "source": [
    "# arithmetic with two dataframes\n",
    "\n",
    "# create a new dataframe\n",
    "column_names= ['sepal length', 'sepal width', 'petal length', 'petal width']\n",
    "data_set_2 = pd.DataFrame([[1,2,3,4],\n",
    "                         [5,6,7,8],\n",
    "                         [9,10,11,12],\n",
    "                         [13,14,15,16],\n",
    "                         [17,18,19,20]], columns=column_names)\n",
    "\n",
    "# add two dataframes together\n",
    "print(data_sample + data_set_2)"
   ]
  },
  {
   "cell_type": "code",
   "execution_count": null,
   "metadata": {
    "collapsed": true
   },
   "outputs": [],
   "source": [
    "# can do arithmetic on a single column\n",
    "print(data_sample['sepal length'] + 4)"
   ]
  },
  {
   "cell_type": "code",
   "execution_count": null,
   "metadata": {
    "collapsed": true
   },
   "outputs": [],
   "source": [
    "# maximum value for a column\n",
    "print('\\nMax value for petal length:', data['petal length'].max())  \n",
    " \n",
    "# get maximum value for each column\n",
    "# can only do this if all columns are numeric\n",
    "data_numeric = data.copy()\n",
    "del data_numeric['class']\n",
    "print('\\nMaximum value per col:')\n",
    "print(data_numeric.max())\n",
    "#print(data.head())"
   ]
  },
  {
   "cell_type": "code",
   "execution_count": null,
   "metadata": {
    "collapsed": true
   },
   "outputs": [],
   "source": [
    "# get minimum value for each row\n",
    "print('\\nMinimum value per row:')\n",
    "print(data.min(axis=1))    \n",
    "\n",
    "# get sum of values for each column\n",
    "print('\\nSum of values per column:')\n",
    "print(data.sum())    \n",
    "\n",
    "# get average value for each row\n",
    "print('\\nAverage value per row:')\n",
    "print(data.mean(axis=1))    \n",
    "\n",
    "print('\\nCalculate max - min per column:')\n",
    "f = lambda x: x.max() - x.min()\n",
    "print(data_numeric.apply(f))\n",
    "\n",
    "print('\\nCalculate max - min per row:')\n",
    "f = lambda x: x.max() - x.min()\n",
    "print(data_numeric.apply(f, axis=1))"
   ]
  },
  {
   "cell_type": "markdown",
   "metadata": {},
   "source": [
    "## 2. Plotting Data\n",
    "\n",
    "### 2.1 Built-in plotting for Series and DataFrames\n",
    "\n",
    "There are built-in functions you can use to plot the data stored in a Series or a DataFrame."
   ]
  },
  {
   "cell_type": "code",
   "execution_count": 1,
   "metadata": {
    "scrolled": true
   },
   "outputs": [
    {
     "ename": "NameError",
     "evalue": "name 'data' is not defined",
     "output_type": "error",
     "traceback": [
      "\u001b[1;31m---------------------------------------------------------------------------\u001b[0m",
      "\u001b[1;31mNameError\u001b[0m                                 Traceback (most recent call last)",
      "\u001b[1;32m<ipython-input-1-b36b28a53a88>\u001b[0m in \u001b[0;36m<module>\u001b[1;34m()\u001b[0m\n\u001b[0;32m      1\u001b[0m \u001b[1;31m# show a boxplot of each numerical feature\u001b[0m\u001b[1;33m\u001b[0m\u001b[1;33m\u001b[0m\u001b[0m\n\u001b[1;32m----> 2\u001b[1;33m \u001b[0mdata\u001b[0m\u001b[1;33m.\u001b[0m\u001b[0mboxplot\u001b[0m\u001b[1;33m(\u001b[0m\u001b[1;33m)\u001b[0m\u001b[1;33m\u001b[0m\u001b[0m\n\u001b[0m",
      "\u001b[1;31mNameError\u001b[0m: name 'data' is not defined"
     ]
    }
   ],
   "source": [
    "# show a boxplot of each numerical feature\n",
    "data.boxplot()"
   ]
  },
  {
   "cell_type": "code",
   "execution_count": null,
   "metadata": {
    "collapsed": true,
    "scrolled": true
   },
   "outputs": [],
   "source": [
    "# create a line plot for one feature\n",
    "petal_len = data['petal length']\n",
    "petal_len.plot(kind='line', title='Line plot')"
   ]
  },
  {
   "cell_type": "code",
   "execution_count": null,
   "metadata": {
    "collapsed": true
   },
   "outputs": [],
   "source": [
    "data.plot()"
   ]
  },
  {
   "cell_type": "code",
   "execution_count": null,
   "metadata": {
    "collapsed": true
   },
   "outputs": [],
   "source": [
    "# create a scatter plot of 2 features\n",
    "data.plot.scatter(x='petal length', y='petal width')"
   ]
  },
  {
   "cell_type": "code",
   "execution_count": null,
   "metadata": {
    "collapsed": true
   },
   "outputs": [],
   "source": [
    "# show a histogram of one feature\n",
    "petal_len.plot(kind='hist', title = 'Histogram')"
   ]
  },
  {
   "cell_type": "code",
   "execution_count": null,
   "metadata": {
    "collapsed": true
   },
   "outputs": [],
   "source": [
    "# create a pie chart\n",
    "groups = data.groupby('class')\n",
    "print(groups.size()) # groups.size() is a Series object\n",
    "groups.size().plot.pie()"
   ]
  },
  {
   "cell_type": "markdown",
   "metadata": {},
   "source": [
    "### 2.2 Using Matplotlib\n",
    "Sometimes the built-in dataframe plotting methods are not customizeable enough for what you are tyring to show. The matplotlib package can be used to create more interesting plots.\n",
    "The matplotlib documentation is [here](https://matplotlib.org/api/axes_api.html#matplotlib.axes.Axes)."
   ]
  },
  {
   "cell_type": "code",
   "execution_count": null,
   "metadata": {
    "collapsed": true
   },
   "outputs": [],
   "source": [
    "# plot petal length vs petal width, color data points by their class\n",
    "colors = {'Iris-setosa':'red', 'Iris-versicolor':'blue', 'Iris-virginica':'green'}\n",
    "plt.scatter(data['petal length'], \n",
    "           data['petal width'], \n",
    "           c=data['class'].apply(lambda x: colors[x]),\n",
    "           marker = 'x')\n",
    "plt.xlabel('Petal Length')\n",
    "plt.ylabel('Petal Width')\n",
    "plt.title(\"Iris Data\")\n",
    "plt.show()"
   ]
  },
  {
   "cell_type": "code",
   "execution_count": null,
   "metadata": {
    "collapsed": true
   },
   "outputs": [],
   "source": [
    "# scatter plot matrix\n",
    "pd.plotting.scatter_matrix(data, figsize=(15,15))\n",
    "plt.show()"
   ]
  },
  {
   "cell_type": "code",
   "execution_count": null,
   "metadata": {
    "collapsed": true
   },
   "outputs": [],
   "source": []
  }
 ],
 "metadata": {
  "kernelspec": {
   "display_name": "Python 3",
   "language": "python",
   "name": "python3"
  },
  "language_info": {
   "codemirror_mode": {
    "name": "ipython",
    "version": 3
   },
   "file_extension": ".py",
   "mimetype": "text/x-python",
   "name": "python",
   "nbconvert_exporter": "python",
   "pygments_lexer": "ipython3",
   "version": "3.6.3"
  }
 },
 "nbformat": 4,
 "nbformat_minor": 2
}
